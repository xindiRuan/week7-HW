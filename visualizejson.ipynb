{
 "cells": [
  {
   "cell_type": "code",
   "execution_count": 1,
   "metadata": {},
   "outputs": [],
   "source": [
    "import os \n",
    "from glob import glob\n",
    "\n",
    "datadirs=glob(\"structured-2018*\")"
   ]
  },
  {
   "cell_type": "code",
   "execution_count": 2,
   "metadata": {
    "scrolled": true
   },
   "outputs": [],
   "source": [
    "#!pip install matplotlib\n",
    "import matplotlib.pyplot as plt\n",
    "from matplotlib.backends.backend_agg import FigureCanvasAgg as FigureCanvas\n",
    "from matplotlib.figure import Figure\n",
    "import gc\n",
    "import json"
   ]
  },
  {
   "cell_type": "code",
   "execution_count": 3,
   "metadata": {},
   "outputs": [],
   "source": [
    "maprootdir = os.path.join('..', 'week6', 'cwl-data', 'maps', 'ww2')\n",
    "map_images = {\n",
    "    'Aachen': 'aachen.png',\n",
    "    'Ardennes Forest': 'ardennes_forest.png',\n",
    "    'Flak Tower': 'flaktower.png',\n",
    "    'Gibraltar': 'gibraltar.png',\n",
    "    'London Docks': 'london_docks.png',\n",
    "    'Sainte Marie du Mont': 'sainte_marie_du_mont.png' ,\n",
    "    'USS Texas': 'uss_texas.png',\n",
    "    'Valkyrie': 'valkyrie.png'\n",
    "}\n",
    "\n",
    "def visualizematch(matchdata, background_image, imagefile):\n",
    "    spawn_xs = []\n",
    "    spawn_ys = []\n",
    "    death_xs = []\n",
    "    death_ys = []\n",
    "    for e in matchdata['events']:\n",
    "        if e['type'] == 'spawn':\n",
    "            spawn_ys.append(e['data']['pos']['y'])\n",
    "            spawn_xs.append(e['data']['pos']['x'])\n",
    "        if e['type'] == 'death':\n",
    "            death_ys.append(e['data']['pos']['y'])\n",
    "            death_xs.append(e['data']['pos']['x'])\n",
    "    # create figure\n",
    "    fig, ax = plt.subplots(1,1)\n",
    "    fig = Figure()\n",
    "    FigureCanvas(fig)\n",
    "    ax = fig.subplots(1,1)\n",
    "    \n",
    "    fig.set_figheight(15)\n",
    "    fig.set_figwidth(15)\n",
    "    \n",
    "    ## plot Background\n",
    "    img = plt.imread(background_image)\n",
    "    ax.imshow(img)\n",
    "    \n",
    "    ax.set_facecolor((210/255.0, 210/255.0, 210/255.0))\n",
    "    # Plot Spawns and deaths\n",
    "    ax.scatter(spawn_xs, spawn_ys, color='cyan')\n",
    "    ax.scatter(death_xs, death_ys, color='red')\n",
    "    ax.set_title('{} ({})'.format(matchdata['map'], matchdata['mode']))\n",
    "    fig.savefig(imagefile) "
   ]
  },
  {
   "cell_type": "code",
   "execution_count": 4,
   "metadata": {},
   "outputs": [],
   "source": [
    "import json\n",
    "\n",
    "\n",
    "def parsejsonmatch(jsonfile, imagefile):\n",
    "    with open(jsonfile, 'r') as f:\n",
    "        rawdata = f.read()\n",
    "    data = json.loads(rawdata)\n",
    "    \n",
    "    mapname = data['map']\n",
    "    if mapname in map_images:\n",
    "        mapfilename = map_images[mapname]\n",
    "        background_image = os.path.join(maprootdir, mapfilename)\n",
    "        visualizematch(data, background_image, imagefile)\n",
    "    else:\n",
    "        print(\"Bad mapname encountered in {}\".format(jsonfile))"
   ]
  },
  {
   "cell_type": "code",
   "execution_count": null,
   "metadata": {},
   "outputs": [],
   "source": [
    "for datadir in datadirs:\n",
    "    imagedir = 'images_' + datadir\n",
    "    if not os.path.exists(imagedir):\n",
    "        os.mkdir(imagedir)\n",
    "    jsonfiles = glob(os.path.join(datadir, \"*.json\"))\n",
    "    for jsonfile in jsonfiles:\n",
    "        basename = os.path.basename(jsonfile)\n",
    "        noextension = os.path.splitext(basename)[0]\n",
    "        imagename = noextension + '.png'\n",
    "        imagefile = os.path.join(imagedir, imagename)\n",
    "        parsejsonmatch(jsonfile, imagefile)"
   ]
  },
  {
   "cell_type": "code",
   "execution_count": null,
   "metadata": {},
   "outputs": [],
   "source": []
  },
  {
   "cell_type": "code",
   "execution_count": null,
   "metadata": {},
   "outputs": [],
   "source": []
  }
 ],
 "metadata": {
  "kernelspec": {
   "display_name": "Python 3",
   "language": "python",
   "name": "python3"
  },
  "language_info": {
   "codemirror_mode": {
    "name": "ipython",
    "version": 3
   },
   "file_extension": ".py",
   "mimetype": "text/x-python",
   "name": "python",
   "nbconvert_exporter": "python",
   "pygments_lexer": "ipython3",
   "version": "3.7.1"
  }
 },
 "nbformat": 4,
 "nbformat_minor": 2
}
